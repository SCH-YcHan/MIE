{
 "cells": [
  {
   "cell_type": "code",
   "execution_count": 1,
   "id": "27c701e0-e01f-4f7d-b4a8-e8b09b4d3fb4",
   "metadata": {},
   "outputs": [
    {
     "name": "stdout",
     "output_type": "stream",
     "text": [
      "✅ glomer.py generate: ../mmsegmentation/mmseg/datasets\\glomer.py\n"
     ]
    }
   ],
   "source": [
    "import os\n",
    "\n",
    "save_dir = '../mmsegmentation/mmseg/datasets'\n",
    "\n",
    "# 저장할 파일 경로\n",
    "file_path = os.path.join(save_dir, 'glomer.py')\n",
    "\n",
    "# 파일 내용\n",
    "glomer_code = '''# Copyright (c) OpenMMLab. All rights reserved.\n",
    "from mmseg.registry import DATASETS\n",
    "from .basesegdataset import BaseSegDataset\n",
    "\n",
    "@DATASETS.register_module()\n",
    "class GlomerDataset(BaseSegDataset):\n",
    "\n",
    "    METAINFO = dict(\n",
    "        classes=('background', 'glomerulus'),\n",
    "        palette=[[0, 0, 0], [255, 0, 0]]\n",
    "    )\n",
    "\n",
    "    def __init__(self,\n",
    "                 img_suffix='.png',\n",
    "                 seg_map_suffix='.png',\n",
    "                 **kwargs) -> None:\n",
    "        super().__init__(\n",
    "            img_suffix=img_suffix, \n",
    "            seg_map_suffix=seg_map_suffix, \n",
    "            **kwargs)\n",
    "'''\n",
    "\n",
    "with open(file_path, 'w', encoding='utf-8') as f:\n",
    "    f.write(glomer_code)\n",
    "\n",
    "print(f\"✅ glomer.py generate: {file_path}\")\n"
   ]
  },
  {
   "cell_type": "code",
   "execution_count": 2,
   "id": "1aa43de5-d206-4b2c-9aaf-71f91d566a5c",
   "metadata": {},
   "outputs": [
    {
     "name": "stdout",
     "output_type": "stream",
     "text": [
      "✅ GlomerDataset import & __all__ Registered!\n"
     ]
    }
   ],
   "source": [
    "init_path = '../mmsegmentation/mmseg/datasets/__init__.py'\n",
    "\n",
    "# 읽기\n",
    "with open(init_path, 'r', encoding='utf-8') as f:\n",
    "    lines = f.readlines()\n",
    "\n",
    "import_line = \"from .glomer import GlomerDataset\\n\"\n",
    "if not any(\"from .glomer import GlomerDataset\" in line for line in lines):\n",
    "    for i, line in enumerate(lines):\n",
    "        if line.strip().startswith('from .voc import'):\n",
    "            lines.insert(i, import_line)\n",
    "            break\n",
    "\n",
    "in_all_block = False\n",
    "for i, line in enumerate(lines):\n",
    "    if '__all__ = [' in line:\n",
    "        in_all_block = True\n",
    "    if in_all_block and ']' in line:\n",
    "        if \"'GlomerDataset'\" not in \"\".join(lines):  # 중복 방지\n",
    "            lines.insert(i, \"    'GlomerDataset',\\n\")\n",
    "        break\n",
    "\n",
    "with open(init_path, 'w', encoding='utf-8') as f:\n",
    "    f.writelines(lines)\n",
    "\n",
    "print(\"✅ GlomerDataset import & __all__ Registered!\")"
   ]
  },
  {
   "cell_type": "code",
   "execution_count": null,
   "id": "710e99f3-b67e-4d1f-935b-16d0007fca6a",
   "metadata": {},
   "outputs": [],
   "source": []
  }
 ],
 "metadata": {
  "kernelspec": {
   "display_name": "Python 3 (ipykernel)",
   "language": "python",
   "name": "python3"
  },
  "language_info": {
   "codemirror_mode": {
    "name": "ipython",
    "version": 3
   },
   "file_extension": ".py",
   "mimetype": "text/x-python",
   "name": "python",
   "nbconvert_exporter": "python",
   "pygments_lexer": "ipython3",
   "version": "3.10.18"
  }
 },
 "nbformat": 4,
 "nbformat_minor": 5
}
