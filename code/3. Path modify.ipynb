{
 "cells": [
  {
   "cell_type": "code",
   "execution_count": 3,
   "id": "39be0f6c-791d-4fbb-b88b-7f5c3c1f3b6f",
   "metadata": {},
   "outputs": [
    {
     "name": "stdout",
     "output_type": "stream",
     "text": [
      "✔️ glomer_x4_fold4.py updated\n",
      "✔️ glomer_x2_fold0.py updated\n",
      "✔️ glomer_x2_fold1.py updated\n",
      "✔️ glomer_x2_fold2.py updated\n",
      "✔️ glomer_x2_fold3.py updated\n",
      "✔️ glomer_x2_fold4.py updated\n",
      "✔️ glomer_x3_fold0.py updated\n",
      "✔️ glomer_x3_fold1.py updated\n",
      "✔️ glomer_x3_fold2.py updated\n",
      "✔️ glomer_x3_fold3.py updated\n",
      "✔️ glomer_x3_fold4.py updated\n",
      "✔️ glomer_x4_fold0.py updated\n",
      "✔️ glomer_x4_fold1.py updated\n",
      "✔️ glomer_x4_fold2.py updated\n",
      "✔️ glomer_x4_fold3.py updated\n"
     ]
    }
   ],
   "source": [
    "import os\n",
    "import re\n",
    "\n",
    "target_dir = '../_base_/datasets'  # datasets path\n",
    "\n",
    "new_base_path = r\"E:/Study/Glomer/MIE/data/\" # your data path\n",
    "\n",
    "pattern = r\"(data_root\\s*=\\s*['\\\"])(.*?/)(x[234]/)(['\\\"])\"\n",
    "\n",
    "for filename in os.listdir(target_dir):\n",
    "    if filename.endswith(\".py\"):\n",
    "        filepath = os.path.join(target_dir, filename)\n",
    "\n",
    "        with open(filepath, 'r', encoding='utf-8') as f:\n",
    "            content = f.read()\n",
    "\n",
    "        new_content = re.sub(pattern, rf\"\\1{new_base_path}\\3\\4\", content)\n",
    "\n",
    "        with open(filepath, 'w', encoding='utf-8') as f:\n",
    "            f.write(new_content)\n",
    "\n",
    "        print(f\"✔️ {filename} updated\")"
   ]
  },
  {
   "cell_type": "code",
   "execution_count": null,
   "id": "5f06d400-5338-406f-b7e7-df26f13382aa",
   "metadata": {},
   "outputs": [],
   "source": []
  }
 ],
 "metadata": {
  "kernelspec": {
   "display_name": "Python 3 (ipykernel)",
   "language": "python",
   "name": "python3"
  },
  "language_info": {
   "codemirror_mode": {
    "name": "ipython",
    "version": 3
   },
   "file_extension": ".py",
   "mimetype": "text/x-python",
   "name": "python",
   "nbconvert_exporter": "python",
   "pygments_lexer": "ipython3",
   "version": "3.10.18"
  }
 },
 "nbformat": 4,
 "nbformat_minor": 5
}
